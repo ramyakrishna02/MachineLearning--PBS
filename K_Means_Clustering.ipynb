{
  "nbformat": 4,
  "nbformat_minor": 0,
  "metadata": {
    "colab": {
      "name": "K_Means_Clustering.ipynb",
      "provenance": []
    },
    "kernelspec": {
      "name": "python3",
      "display_name": "Python 3"
    }
  },
  "cells": [
    {
      "cell_type": "code",
      "metadata": {
        "id": "SGJAwXfE5iNX"
      },
      "source": [
        "#Import the Libraries\n",
        "import numpy as np\n",
        "import pandas as pd\n",
        "import matplotlib.pyplot as plt\n",
        "from sklearn.cluster import KMeans"
      ],
      "execution_count": null,
      "outputs": []
    },
    {
      "cell_type": "code",
      "metadata": {
        "id": "IEsr5olLdY8A"
      },
      "source": [
        "X = -2 * np.random.rand(100,2)\r\n",
        "#X"
      ],
      "execution_count": null,
      "outputs": []
    },
    {
      "cell_type": "code",
      "metadata": {
        "id": "7HnjgaHA6Jvw",
        "colab": {
          "base_uri": "https://localhost:8080/",
          "height": 265
        },
        "outputId": "7ae91ed6-c47d-45ac-8046-4a9f50a9fc4d"
      },
      "source": [
        "#Generate the data\n",
        "X = -2 * np.random.rand(100,2)\n",
        "X1 = 1 + 2 * np.random.rand(50,2)\n",
        "X[50:100,:] = X1\n",
        "plt.scatter(X[:,0],X[:,1],s=50,c='b')\n",
        "plt.show()\n",
        "#A total of 100 points has been generated and \n",
        "#divided into two groups of 50 points each"
      ],
      "execution_count": null,
      "outputs": [
        {
          "output_type": "display_data",
          "data": {
            "image/png": "[encoded data removed]",
            "text/plain": [
              "<Figure size 432x288 with 1 Axes>"
            ]
          },
          "metadata": {
            "tags": [],
            "needs_background": "light"
          }
        }
      ]
    },
    {
      "cell_type": "code",
      "metadata": {
        "id": "HNSkaWke7QZT",
        "colab": {
          "base_uri": "https://localhost:8080/"
        },
        "outputId": "cbcb3c91-c35d-4562-d39b-7d5acd38d1d9"
      },
      "source": [
        "Kmean = KMeans(n_clusters=2) \n",
        "Kmean.fit(X)"
      ],
      "execution_count": null,
      "outputs": [
        {
          "output_type": "execute_result",
          "data": {
            "text/plain": [
              "KMeans(algorithm='auto', copy_x=True, init='k-means++', max_iter=300,\n",
              "       n_clusters=2, n_init=10, n_jobs=None, precompute_distances='auto',\n",
              "       random_state=None, tol=0.0001, verbose=0)"
            ]
          },
          "metadata": {
            "tags": []
          },
          "execution_count": 5
        }
      ]
    },
    {
      "cell_type": "code",
      "metadata": {
        "id": "ptaJJJCQ75GB",
        "colab": {
          "base_uri": "https://localhost:8080/"
        },
        "outputId": "7c52fe95-a995-4ca9-ddbf-51615830a37e"
      },
      "source": [
        "#Finding the Centroid\n",
        "Kmean.cluster_centers_"
      ],
      "execution_count": null,
      "outputs": [
        {
          "output_type": "execute_result",
          "data": {
            "text/plain": [
              "array([[ 2.09374294,  1.96860577],\n",
              "       [-0.91515326, -0.94874664]])"
            ]
          },
          "metadata": {
            "tags": []
          },
          "execution_count": 6
        }
      ]
    },
    {
      "cell_type": "code",
      "metadata": {
        "id": "660oeF_s8D6n",
        "colab": {
          "base_uri": "https://localhost:8080/",
          "height": 265
        },
        "outputId": "3e7f4fea-fc64-49f3-8c53-b508e2b48ca6"
      },
      "source": [
        "plt.scatter(X[:,0],X[:,1],s=50,c='b')\n",
        "plt.scatter(2.09374294,1.96860577,s=100,c='g',marker='s')\n",
        "plt.scatter(-0.91515326,-0.94874664,s=100,c='r',marker='s')\n",
        "plt.show()"
      ],
      "execution_count": null,
      "outputs": [
        {
          "output_type": "display_data",
          "data": {
            "image/png": "[encoded data removed]",
            "text/plain": [
              "<Figure size 432x288 with 1 Axes>"
            ]
          },
          "metadata": {
            "tags": [],
            "needs_background": "light"
          }
        }
      ]
    },
    {
      "cell_type": "code",
      "metadata": {
        "id": "UUJufP3n8uDe",
        "colab": {
          "base_uri": "https://localhost:8080/"
        },
        "outputId": "d69e35bc-0f2f-494d-f9b9-a3b96e6b5c59"
      },
      "source": [
        "#labels property of the K-Means clustering \n",
        "#example dataset and how the datapoints are categorized \n",
        "#into two clusters\n",
        "Kmean.labels_"
      ],
      "execution_count": null,
      "outputs": [
        {
          "output_type": "execute_result",
          "data": {
            "text/plain": [
              "array([1, 1, 1, 1, 1, 1, 1, 1, 1, 1, 1, 1, 1, 1, 1, 1, 1, 1, 1, 1, 1, 1,\n",
              "       1, 1, 1, 1, 1, 1, 1, 1, 1, 1, 1, 1, 1, 1, 1, 1, 1, 1, 1, 1, 1, 1,\n",
              "       1, 1, 1, 1, 1, 1, 0, 0, 0, 0, 0, 0, 0, 0, 0, 0, 0, 0, 0, 0, 0, 0,\n",
              "       0, 0, 0, 0, 0, 0, 0, 0, 0, 0, 0, 0, 0, 0, 0, 0, 0, 0, 0, 0, 0, 0,\n",
              "       0, 0, 0, 0, 0, 0, 0, 0, 0, 0, 0, 0], dtype=int32)"
            ]
          },
          "metadata": {
            "tags": []
          },
          "execution_count": 8
        }
      ]
    },
    {
      "cell_type": "code",
      "metadata": {
        "id": "ldx8bmOd9EbH",
        "colab": {
          "base_uri": "https://localhost:8080/"
        },
        "outputId": "b1fd64c4-a6bb-4171-daeb-441813e4e045"
      },
      "source": [
        "sample_test = np.array([-2.0,45.0])\n",
        "print(sample_test)\n",
        "second_test = sample_test.reshape(1,-1)\n",
        "print(second_test)\n",
        "Kmean.predict(second_test)"
      ],
      "execution_count": null,
      "outputs": [
        {
          "output_type": "stream",
          "text": [
            "[-2. 45.]\n",
            "[[-2. 45.]]\n"
          ],
          "name": "stdout"
        },
        {
          "output_type": "execute_result",
          "data": {
            "text/plain": [
              "array([0], dtype=int32)"
            ]
          },
          "metadata": {
            "tags": []
          },
          "execution_count": 10
        }
      ]
    },
    {
      "cell_type": "code",
      "metadata": {
        "id": "3k3i5DJY9epl"
      },
      "source": [
        ""
      ],
      "execution_count": null,
      "outputs": []
    }
  ]
}